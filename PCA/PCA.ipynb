{
 "cells": [
  {
   "attachments": {},
   "cell_type": "markdown",
   "metadata": {},
   "source": [
    "### PCA \n",
    "- Python is really simple to use.\n",
    "- I used unscaled data because it somehow gave me better explained variance \n",
    "- The goal here is to visualize the temperature trends inside a PMSM (electrical machines) using PCA to reduce the number of axes from 6 to 2."
   ]
  },
  {
   "attachments": {},
   "cell_type": "markdown",
   "metadata": {},
   "source": [
    "## Libraries"
   ]
  },
  {
   "cell_type": "code",
   "execution_count": 66,
   "metadata": {},
   "outputs": [],
   "source": [
    "import matplotlib.pyplot as plt\n",
    "import pandas as pd\n",
    "import numpy as np\n",
    "from sklearn.decomposition import PCA # we will use PCA from sklearn"
   ]
  },
  {
   "attachments": {},
   "cell_type": "markdown",
   "metadata": {},
   "source": [
    "load our data to see the columns here since we're willing to keep only the temprature features so we will drop features like i_d...."
   ]
  },
  {
   "cell_type": "code",
   "execution_count": 74,
   "metadata": {},
   "outputs": [
    {
     "name": "stdout",
     "output_type": "stream",
     "text": [
      "<class 'pandas.core.frame.DataFrame'>\n",
      "RangeIndex: 1330816 entries, 0 to 1330815\n",
      "Data columns (total 13 columns):\n",
      " #   Column          Non-Null Count    Dtype  \n",
      "---  ------          --------------    -----  \n",
      " 0   u_q             1330816 non-null  float64\n",
      " 1   coolant         1330816 non-null  float64\n",
      " 2   stator_winding  1330816 non-null  float64\n",
      " 3   u_d             1330816 non-null  float64\n",
      " 4   stator_tooth    1330816 non-null  float64\n",
      " 5   motor_speed     1330816 non-null  float64\n",
      " 6   i_d             1330816 non-null  float64\n",
      " 7   i_q             1330816 non-null  float64\n",
      " 8   pm              1330816 non-null  float64\n",
      " 9   stator_yoke     1330816 non-null  float64\n",
      " 10  ambient         1330816 non-null  float64\n",
      " 11  torque          1330816 non-null  float64\n",
      " 12  profile_id      1330816 non-null  int64  \n",
      "dtypes: float64(12), int64(1)\n",
      "memory usage: 132.0 MB\n"
     ]
    }
   ],
   "source": [
    "df = pd.read_csv('PMSM.csv')\n",
    "df.info()\n",
    "# we good no missing values "
   ]
  },
  {
   "cell_type": "code",
   "execution_count": 75,
   "metadata": {},
   "outputs": [
    {
     "name": "stdout",
     "output_type": "stream",
     "text": [
      "Index(['u_q', 'coolant', 'stator_winding', 'u_d', 'stator_tooth',\n",
      "       'motor_speed', 'i_d', 'i_q', 'pm', 'stator_yoke', 'ambient', 'torque',\n",
      "       'profile_id'],\n",
      "      dtype='object')\n"
     ]
    }
   ],
   "source": [
    "print(df.columns)"
   ]
  },
  {
   "attachments": {},
   "cell_type": "markdown",
   "metadata": {},
   "source": [
    "here we drop non thermal features since we only need what's temperature measurment"
   ]
  },
  {
   "cell_type": "code",
   "execution_count": 76,
   "metadata": {},
   "outputs": [
    {
     "name": "stdout",
     "output_type": "stream",
     "text": [
      "<class 'pandas.core.frame.DataFrame'>\n",
      "RangeIndex: 1330816 entries, 0 to 1330815\n",
      "Data columns (total 6 columns):\n",
      " #   Column          Non-Null Count    Dtype  \n",
      "---  ------          --------------    -----  \n",
      " 0   coolant         1330816 non-null  float64\n",
      " 1   stator_winding  1330816 non-null  float64\n",
      " 2   stator_tooth    1330816 non-null  float64\n",
      " 3   pm              1330816 non-null  float64\n",
      " 4   stator_yoke     1330816 non-null  float64\n",
      " 5   ambient         1330816 non-null  float64\n",
      "dtypes: float64(6)\n",
      "memory usage: 60.9 MB\n"
     ]
    }
   ],
   "source": [
    "dropped = ['u_q','u_d','motor_speed','profile_id','torque','i_d','i_q']\n",
    "th = df.drop(dropped,axis=1) \n",
    "th.info()"
   ]
  },
  {
   "attachments": {},
   "cell_type": "markdown",
   "metadata": {},
   "source": [
    "## PCA\n",
    "we want out of this six features to use only the first two PC's"
   ]
  },
  {
   "cell_type": "code",
   "execution_count": 77,
   "metadata": {},
   "outputs": [],
   "source": [
    "# our new data with 2 columns you can see how easy is it to use sklearn!\n",
    "pca = PCA(n_components=2)\n",
    "th_pca = pca.fit_transform(th)\n",
    "pca_th = pd.DataFrame(data = th_pca, columns = ['PC1', 'PC2'])"
   ]
  },
  {
   "attachments": {},
   "cell_type": "markdown",
   "metadata": {},
   "source": [
    "we can see below that with just two PCs we get 95.7 % of total explained variance !"
   ]
  },
  {
   "cell_type": "code",
   "execution_count": 78,
   "metadata": {},
   "outputs": [
    {
     "name": "stdout",
     "output_type": "stream",
     "text": [
      "[0.83117137 0.95709131]\n"
     ]
    }
   ],
   "source": [
    "# we're seeing how many info we capture with 2 components\n",
    "explained_variance_ratio = pca.explained_variance_ratio_.cumsum()\n",
    "print(explained_variance_ratio)"
   ]
  },
  {
   "cell_type": "code",
   "execution_count": 82,
   "metadata": {},
   "outputs": [
    {
     "name": "stdout",
     "output_type": "stream",
     "text": [
      "<class 'pandas.core.frame.DataFrame'>\n",
      "RangeIndex: 1330816 entries, 0 to 1330815\n",
      "Data columns (total 2 columns):\n",
      " #   Column  Non-Null Count    Dtype  \n",
      "---  ------  --------------    -----  \n",
      " 0   PC1     1330816 non-null  float64\n",
      " 1   PC2     1330816 non-null  float64\n",
      "dtypes: float64(2)\n",
      "memory usage: 20.3 MB\n"
     ]
    }
   ],
   "source": [
    "# our new data set\n",
    "pca_th.info()"
   ]
  },
  {
   "attachments": {},
   "cell_type": "markdown",
   "metadata": {},
   "source": [
    "a small plot to visualize our two PCs, we will try to extract some useful info from the plot "
   ]
  },
  {
   "cell_type": "code",
   "execution_count": 81,
   "metadata": {},
   "outputs": [
    {
     "data": {
      "image/png": "[encoded data removed]",
      "text/plain": [
       "<Figure size 640x480 with 1 Axes>"
      ]
     },
     "metadata": {},
     "output_type": "display_data"
    }
   ],
   "source": [
    "\n",
    "# visualize the data\n",
    "plt.scatter(pca_th[\"PC1\"], pca_th[\"PC2\"], alpha=0.8)\n",
    "plt.xlabel(\"Principal Component 1 (PC1)\")\n",
    "plt.ylabel(\"Principal Component 2 (PC2)\")\n",
    "plt.title(\"PCA: Scatter Plot of Principal Components (Unscaled Data)\")\n",
    "plt.grid(True)\n",
    "plt.show()"
   ]
  },
  {
   "attachments": {},
   "cell_type": "markdown",
   "metadata": {},
   "source": [
    "it's usefull to know how our PCs are built "
   ]
  },
  {
   "cell_type": "code",
   "execution_count": 57,
   "metadata": {},
   "outputs": [
    {
     "name": "stdout",
     "output_type": "stream",
     "text": [
      "                     PC1       PC2\n",
      "coolant         0.343306 -0.821735\n",
      "stator_winding  0.586611  0.436727\n",
      "stator_tooth    0.492285  0.092026\n",
      "pm              0.346433  0.248775\n",
      "stator_yoke     0.418650 -0.250879\n",
      "ambient         0.020026 -0.026883\n"
     ]
    }
   ],
   "source": [
    "# Extract the loadings of each original feature on PC1 and PC2\n",
    "loadings_df = pd.DataFrame(data=pca.components_.T, columns=[\"PC1\", \"PC2\"], index=df.columns)\n",
    "print(loadings_df)"
   ]
  },
  {
   "attachments": {},
   "cell_type": "markdown",
   "metadata": {},
   "source": [
    "# oooy \n",
    "that was a simple implementation of PCA, it's not really useful in this case but i wanted to use it on a simple dataset, From this plot, we can understand that the axes are correlated, which means that the temperatures in the machine tend to get high and low together, which is logical. \n",
    "\n",
    "- The points in the upper-right corner of the plot represent the points that have high values for both PC1 and PC2. These points are likely to be the hottest points in the PMSM.\n",
    "- The points in the lower-left corner of the plot represent the points that have low values for both PC1 and PC2. These points are likely to be the coldest points in the PMSM.\n",
    "- The points that are closest to the origin represent the points that are least affected by the principal components. These points are likely to be the most stable points in the data set."
   ]
  }
 ],
 "metadata": {
  "kernelspec": {
   "display_name": "base",
   "language": "python",
   "name": "python3"
  },
  "language_info": {
   "codemirror_mode": {
    "name": "ipython",
    "version": 3
   },
   "file_extension": ".py",
   "mimetype": "text/x-python",
   "name": "python",
   "nbconvert_exporter": "python",
   "pygments_lexer": "ipython3",
   "version": "3.9.13"
  },
  "orig_nbformat": 4
 },
 "nbformat": 4,
 "nbformat_minor": 2
}
